{
 "cells": [
  {
   "cell_type": "markdown",
   "id": "f3ec8fae",
   "metadata": {},
   "source": [
    "# Train và đánh giá model"
   ]
  },
  {
   "cell_type": "code",
   "execution_count": 9,
   "id": "79a09d29",
   "metadata": {},
   "outputs": [],
   "source": [
    "import pandas as pd\n",
    "import numpy as np\n",
    "import pickle\n",
    "import warnings\n",
    "warnings.filterwarnings('ignore')\n",
    "from sklearn.feature_extraction.text import CountVectorizer\n",
    "from sklearn.feature_extraction.text import TfidfVectorizer\n",
    "from sklearn.linear_model import LogisticRegression\n",
    "from sklearn.metrics import classification_report\n",
    "from sklearn.model_selection import GridSearchCV"
   ]
  },
  {
   "cell_type": "markdown",
   "id": "50c652c9",
   "metadata": {},
   "source": [
    "## Đọc dữ liệu"
   ]
  },
  {
   "cell_type": "code",
   "execution_count": 10,
   "id": "a1310047",
   "metadata": {},
   "outputs": [],
   "source": [
    "X_train = pd.read_excel(\"data/X_train.xlsx\")\n",
    "y_train = pd.read_excel(\"data/y_train.xlsx\")\n",
    "X_valid = pd.read_excel(\"data/X_valid.xlsx\")\n",
    "y_valid = pd.read_excel(\"data/y_valid.xlsx\")\n",
    "X_test = pd.read_excel(\"data/X_test.xlsx\")\n",
    "y_test = pd.read_excel(\"data/y_test.xlsx\")"
   ]
  },
  {
   "cell_type": "markdown",
   "id": "855adea5",
   "metadata": {},
   "source": [
    "## Vectorizer, chạy model, đánh giá và lưu model"
   ]
  },
  {
   "cell_type": "code",
   "execution_count": 11,
   "id": "cd91a503",
   "metadata": {
    "scrolled": true
   },
   "outputs": [
    {
     "name": "stdout",
     "output_type": "stream",
     "text": [
      "phương pháp CountVertorizer, tham số ngram_range_1_1\n",
      "              precision    recall  f1-score   support\n",
      "\n",
      "           0     0.8514    0.9231    0.8858      2198\n",
      "           1     0.7169    0.5473    0.6207       782\n",
      "\n",
      "    accuracy                         0.8245      2980\n",
      "   macro avg     0.7842    0.7352    0.7533      2980\n",
      "weighted avg     0.8161    0.8245    0.8163      2980\n",
      "\n",
      "Phương pháp CountVertorizer, tham số ngram_range_1_1, GridSearchCV\n",
      "              precision    recall  f1-score   support\n",
      "\n",
      "           0     0.8570    0.9186    0.8867      2198\n",
      "           1     0.7131    0.5691    0.6330       782\n",
      "\n",
      "    accuracy                         0.8268      2980\n",
      "   macro avg     0.7851    0.7438    0.7598      2980\n",
      "weighted avg     0.8192    0.8268    0.8201      2980\n",
      "\n",
      "Phương pháp CountVertorizer, tham số ngram_range_1_2\n",
      "              precision    recall  f1-score   support\n",
      "\n",
      "           0     0.8740    0.9217    0.8973      2198\n",
      "           1     0.7402    0.6266    0.6787       782\n",
      "\n",
      "    accuracy                         0.8443      2980\n",
      "   macro avg     0.8071    0.7742    0.7880      2980\n",
      "weighted avg     0.8389    0.8443    0.8399      2980\n",
      "\n",
      "Phương pháp CountVertorizer, tham số ngram_range_1_2, GridSearchCV\n",
      "              precision    recall  f1-score   support\n",
      "\n",
      "           0     0.8740    0.9217    0.8973      2198\n",
      "           1     0.7402    0.6266    0.6787       782\n",
      "\n",
      "    accuracy                         0.8443      2980\n",
      "   macro avg     0.8071    0.7742    0.7880      2980\n",
      "weighted avg     0.8389    0.8443    0.8399      2980\n",
      "\n",
      "Phương pháp Tf-idfVectorizer, tham số ngram_range_1_1\n",
      "              precision    recall  f1-score   support\n",
      "\n",
      "           0     0.8444    0.9604    0.8987      2198\n",
      "           1     0.8187    0.5026    0.6228       782\n",
      "\n",
      "    accuracy                         0.8403      2980\n",
      "   macro avg     0.8316    0.7315    0.7608      2980\n",
      "weighted avg     0.8377    0.8403    0.8263      2980\n",
      "\n",
      "Phương pháp Tf-idfVectorizer, tham số ngram_range_1_1, GridSearchCV\n",
      "              precision    recall  f1-score   support\n",
      "\n",
      "           0     0.8530    0.9322    0.8909      2198\n",
      "           1     0.7422    0.5486    0.6309       782\n",
      "\n",
      "    accuracy                         0.8315      2980\n",
      "   macro avg     0.7976    0.7404    0.7609      2980\n",
      "weighted avg     0.8240    0.8315    0.8226      2980\n",
      "\n",
      "Phương pháp Tf-idfVectorizer, tham số ngram_range_1_2\n",
      "              precision    recall  f1-score   support\n",
      "\n",
      "           0     0.8313    0.9818    0.9003      2198\n",
      "           1     0.8958    0.4399    0.5901       782\n",
      "\n",
      "    accuracy                         0.8396      2980\n",
      "   macro avg     0.8636    0.7108    0.7452      2980\n",
      "weighted avg     0.8482    0.8396    0.8189      2980\n",
      "\n",
      "Phương pháp Tf-idfVectorizer, tham số ngram_range_1_2, GridSearchCV\n",
      "              precision    recall  f1-score   support\n",
      "\n",
      "           0     0.8551    0.9613    0.9051      2198\n",
      "           1     0.8330    0.5422    0.6569       782\n",
      "\n",
      "    accuracy                         0.8513      2980\n",
      "   macro avg     0.8441    0.7518    0.7810      2980\n",
      "weighted avg     0.8493    0.8513    0.8400      2980\n",
      "\n"
     ]
    }
   ],
   "source": [
    "encoder = [\"CountVertorizer\", \"Tf-idfVectorizer\"]\n",
    "ngram_range = [\"ngram_range_1_1\", \"ngram_range_1_2\"]\n",
    "for j in encoder:\n",
    "    if j == \"CountVertorizer\":\n",
    "        for k in ngram_range:\n",
    "            if k == \"ngram_range_1_1\":\n",
    "                # Tiền xử lý\n",
    "\n",
    "                c_vectorizer = CountVectorizer(ngram_range=(1, 1))\n",
    "                c_vectorizer.fit(X_train[\"comment\"])\n",
    "                X_train_c = c_vectorizer.transform(X_train[\"comment\"])\n",
    "                X_valid_c = c_vectorizer.transform(X_valid[\"comment\"])\n",
    "                X_test_c = c_vectorizer.transform(X_test[\"comment\"])\n",
    "                        \n",
    "                #Chạy model\n",
    "                ##### chỉnh ở đây nè\n",
    "                model_logis_c = LogisticRegression()\n",
    "                model_logis_c.fit(X_train_c, y_train)\n",
    "                y_pred_val_c = model_logis_c.predict(X_valid_c)\n",
    "                #In điểm model\n",
    "\n",
    "                print(\"phương pháp {0}, tham số {1}\".format(j, k))\n",
    "                print(classification_report(y_valid, y_pred_val_c, digits=4))\n",
    "                #Lưu model\n",
    "                with open('model_logistic_countvtr_1_1.pkl','wb') as f:\n",
    "                    pickle.dump(model_logis_c,f)    \n",
    "                ##### chỉnh ở đây nè\n",
    "                # parameter grid\n",
    "                parameters = {\n",
    "                        'penalty' : ['l1','l2'], \n",
    "                        'C'       : np.logspace(-3,3,7),\n",
    "                        'solver'  : ['newton-cg', 'lbfgs', 'liblinear'],\n",
    "                    }\n",
    "                clf_c = GridSearchCV(model_logis_c,            # model\n",
    "                                       param_grid = parameters,   # hyperparameters\n",
    "                                       scoring= 'f1_macro',        # metric for scoring\n",
    "                                       cv=10)                     # number of folds\n",
    "                clf_c.fit(X_train_c, y_train)\n",
    "                y_pred_grid_val_c = clf_c.predict(X_valid_c)\n",
    "                print(\"Phương pháp {0}, tham số {1}, GridSearchCV\".format( j, k))\n",
    "                print(classification_report(y_valid, y_pred_grid_val_c, digits=4))\n",
    "                #Lưu model\n",
    "                with open('model_logistic_countvtr_1_1_grid.pkl','wb') as f:\n",
    "                    pickle.dump(clf_c,f)\n",
    "            if k == \"ngram_range_1_2\":\n",
    "                # Tiền xử lý\n",
    "                c_vectorizer = CountVectorizer(ngram_range=(1, 2))\n",
    "                c_vectorizer.fit(X_train[\"comment\"])\n",
    "                X_train_c = c_vectorizer.transform(X_train[\"comment\"])\n",
    "                X_valid_c = c_vectorizer.transform(X_valid[\"comment\"])\n",
    "                X_test_c = c_vectorizer.transform(X_test[\"comment\"])\n",
    "                        \n",
    "                #Chạy model\n",
    "                ##### chỉnh ở đây nè\n",
    "                model_logis_c = LogisticRegression()\n",
    "                model_logis_c.fit(X_train_c, y_train)\n",
    "                y_pred_val_c = model_logis_c.predict(X_valid_c)\n",
    "                #In điểm model\n",
    "                    \n",
    "                print(\"Phương pháp {0}, tham số {1}\".format( j, k))\n",
    "                print(classification_report(y_valid, y_pred_val_c, digits=4))\n",
    "                #Lưu model\n",
    "                with open('model_logistic_countvtr_1_2.pkl','wb') as f:\n",
    "                    pickle.dump(model_logis_c,f)    \n",
    "                ##### chỉnh ở đây nè\n",
    "                # parameter grid\n",
    "                parameters = {\n",
    "                        'penalty' : ['l1','l2'], \n",
    "                        'C'       : np.logspace(-3,3,7),\n",
    "                        'solver'  : ['newton-cg', 'lbfgs', 'liblinear'],\n",
    "                    }\n",
    "                clf_c = GridSearchCV(model_logis_c,            # model\n",
    "                                       param_grid = parameters,   # hyperparameters\n",
    "                                       scoring= 'f1_macro',        # metric for scoring\n",
    "                                       cv=10)                     # number of folds\n",
    "                clf_c.fit(X_train_c, y_train)\n",
    "                y_pred_grid_val_c = clf_c.predict(X_valid_c)\n",
    "                print(\"Phương pháp {0}, tham số {1}, GridSearchCV\".format( j, k))\n",
    "                print(classification_report(y_valid, y_pred_grid_val_c, digits=4))\n",
    "                #Lưu model\n",
    "                with open('model_logistic_countvtr_1_2_grid.pkl','wb') as f:\n",
    "                    pickle.dump(clf_c,f) \n",
    "    if j == \"Tf-idfVectorizer\":\n",
    "        for k in ngram_range:\n",
    "            if k == \"ngram_range_1_1\":\n",
    "                # Tiền xử lý\n",
    "                tf_vectorizer = TfidfVectorizer(ngram_range=(1, 1))\n",
    "                tf_vectorizer.fit(X_train[\"comment\"])\n",
    "                X_train_tf = tf_vectorizer.transform(X_train[\"comment\"])\n",
    "                X_valid_tf = tf_vectorizer.transform(X_valid[\"comment\"])\n",
    "                X_test_tf = tf_vectorizer.transform(X_test[\"comment\"])\n",
    "                #Chạy model\n",
    "                ##### chỉnh ở đây nè\n",
    "                model_logis_tf = LogisticRegression()\n",
    "                model_logis_tf.fit(X_train_tf, y_train)\n",
    "                y_pred_val_tf = model_logis_tf.predict(X_valid_tf)\n",
    "                #In điểm model\n",
    "                print(\"Phương pháp {0}, tham số {1}\".format( j, k))\n",
    "                print(classification_report(y_valid, y_pred_val_tf, digits=4))\n",
    "                #Lưu model\n",
    "                with open('model_logistic_tfidf_1_1.pkl','wb') as f:\n",
    "                    pickle.dump(model_logis_tf,f) \n",
    "                ##### chỉnh ở đây nè\n",
    "                # parameter grid\n",
    "                parameters = {\n",
    "                        'penalty' : ['l1','l2'], \n",
    "                        'C'       : np.logspace(-3,3,7),\n",
    "                        'solver'  : ['newton-cg', 'lbfgs', 'liblinear'],\n",
    "                    }\n",
    "                clf_tf = GridSearchCV(model_logis_tf,            # model\n",
    "                                           param_grid = parameters,   # hyperparameters\n",
    "                                           scoring='f1_macro',        # metric for scoring\n",
    "                                           cv=10)                     # number of folds\n",
    "                clf_tf.fit(X_train_tf, y_train)\n",
    "                y_pred_grid_val_tf = clf_tf.predict(X_valid_tf)\n",
    "                print(\"Phương pháp {0}, tham số {1}, GridSearchCV\".format( j, k))\n",
    "                print(classification_report(y_valid, y_pred_grid_val_tf, digits=4))\n",
    "                #Lưu model\n",
    "                with open('model_logistic_tfidf_1_1_grid.pkl','wb') as f:\n",
    "                    pickle.dump(clf_tf,f) \n",
    "            if k == \"ngram_range_1_2\":\n",
    "                # Tiền xử lý\n",
    "                tf_vectorizer = TfidfVectorizer(ngram_range=(1, 2))\n",
    "                tf_vectorizer.fit(X_train[\"comment\"])\n",
    "                X_train_tf = tf_vectorizer.transform(X_train[\"comment\"])\n",
    "                X_valid_tf = tf_vectorizer.transform(X_valid[\"comment\"])\n",
    "                X_test_tf = tf_vectorizer.transform(X_test[\"comment\"])\n",
    "                #Chạy model\n",
    "                ##### chỉnh ở đây nè\n",
    "                model_logis_tf = LogisticRegression()\n",
    "                model_logis_tf.fit(X_train_tf, y_train)\n",
    "                y_pred_val_tf = model_logis_tf.predict(X_valid_tf)\n",
    "                #In điểm model\n",
    "                print(\"Phương pháp {0}, tham số {1}\".format( j, k))\n",
    "                print(classification_report(y_valid, y_pred_val_tf, digits=4))\n",
    "                #Lưu model\n",
    "                with open('model_logistic_tfidf_1_2.pkl','wb') as f:\n",
    "                    pickle.dump(model_logis_tf,f) \n",
    "                # parameter grid\n",
    "                ##### chỉnh ở đây nè\n",
    "                parameters = {\n",
    "                            'penalty' : ['l1','l2'], \n",
    "                            'C'       : np.logspace(-3,3,7),\n",
    "                            'solver'  : ['newton-cg', 'lbfgs', 'liblinear'],\n",
    "                    }\n",
    "                clf_tf = GridSearchCV(model_logis_tf,            # model\n",
    "                                           param_grid = parameters,   # hyperparameters\n",
    "                                           scoring='f1_macro',        # metric for scoring\n",
    "                                           cv=10)                     # number of folds\n",
    "                clf_tf.fit(X_train_tf, y_train)\n",
    "                y_pred_grid_val_tf = clf_tf.predict(X_valid_tf)\n",
    "                print(\"Phương pháp {0}, tham số {1}, GridSearchCV\".format( j, k))\n",
    "                print(classification_report(y_valid, y_pred_grid_val_tf, digits=4))\n",
    "                #Lưu model\n",
    "                with open('model_logistic_tfidf_1_2_grid.pkl','wb') as f:\n",
    "                    pickle.dump(clf_tf,f) "
   ]
  },
  {
   "cell_type": "markdown",
   "id": "4001e3d6",
   "metadata": {},
   "source": [
    "## Load model và đánh giá trên tập test"
   ]
  },
  {
   "cell_type": "markdown",
   "id": "60d1acd5",
   "metadata": {},
   "source": [
    "### Load model"
   ]
  },
  {
   "cell_type": "code",
   "execution_count": 12,
   "id": "da0e23ae",
   "metadata": {},
   "outputs": [],
   "source": [
    "\n",
    "with open('model_logistic_countvtr_1_1.pkl', 'rb') as f:\n",
    "    model_logistic_countvtr_1_1  = pickle.load(f)\n",
    "\n",
    "with open('model_logistic_countvtr_1_1_grid.pkl', 'rb') as f:\n",
    "    model_logistic_countvtr_1_1_grid  = pickle.load(f)\n",
    "\n",
    "with open('model_logistic_countvtr_1_2.pkl', 'rb') as f:\n",
    "    model_logistic_countvtr_1_2  = pickle.load(f)\n",
    "\n",
    "with open('model_logistic_countvtr_1_2_grid.pkl', 'rb') as f:\n",
    "    model_logistic_countvtr_1_2_grid  = pickle.load(f)\n",
    "    \n",
    "with open('model_logistic_tfidf_1_1.pkl', 'rb') as f:\n",
    "    model_logistic_tfidf_1_1  = pickle.load(f)\n",
    "\n",
    "with open('model_logistic_tfidf_1_1_grid.pkl', 'rb') as f:\n",
    "    model_logistic_tfidf_1_1_grid  = pickle.load(f)\n",
    "\n",
    "with open('model_logistic_tfidf_1_2.pkl', 'rb') as f:\n",
    "    model_logistic_tfidf_1_2  = pickle.load(f)\n",
    "\n",
    "with open('model_logistic_tfidf_1_2_grid.pkl', 'rb') as f:\n",
    "    model_logistic_tfidf_1_2_grid  = pickle.load(f)"
   ]
  },
  {
   "cell_type": "code",
   "execution_count": null,
   "id": "dfc99277",
   "metadata": {},
   "outputs": [],
   "source": []
  },
  {
   "cell_type": "markdown",
   "id": "9861a34a",
   "metadata": {},
   "source": [
    "### Model Logistic, CountVectorizer, ngram(1, 1)"
   ]
  },
  {
   "cell_type": "code",
   "execution_count": 20,
   "id": "39e1167e",
   "metadata": {
    "scrolled": true
   },
   "outputs": [
    {
     "name": "stdout",
     "output_type": "stream",
     "text": [
      "              precision    recall  f1-score   support\n",
      "\n",
      "           0     0.8616    0.9392    0.8987      2187\n",
      "           1     0.7772    0.5844    0.6671       794\n",
      "\n",
      "    accuracy                         0.8447      2981\n",
      "   macro avg     0.8194    0.7618    0.7829      2981\n",
      "weighted avg     0.8391    0.8447    0.8370      2981\n",
      "\n"
     ]
    }
   ],
   "source": [
    "c_vectorizer = CountVectorizer(ngram_range=(1, 1))\n",
    "c_vectorizer.fit(X_train[\"comment\"])\n",
    "X_test_c = c_vectorizer.transform(X_test[\"comment\"])\n",
    "\n",
    "y_pred = model_logistic_countvtr_1_1.predict(X_test_c)\n",
    "print(classification_report(y_test, y_pred, digits=4))"
   ]
  },
  {
   "cell_type": "markdown",
   "id": "f89209a5",
   "metadata": {},
   "source": [
    "\n",
    "### Model Logistic, CountVectorizer, ngram(1, 1), GridSearchCV"
   ]
  },
  {
   "cell_type": "code",
   "execution_count": 21,
   "id": "b995a5f9",
   "metadata": {},
   "outputs": [
    {
     "name": "stdout",
     "output_type": "stream",
     "text": [
      "              precision    recall  f1-score   support\n",
      "\n",
      "           0     0.8646    0.9282    0.8953      2187\n",
      "           1     0.7520    0.5995    0.6671       794\n",
      "\n",
      "    accuracy                         0.8407      2981\n",
      "   macro avg     0.8083    0.7639    0.7812      2981\n",
      "weighted avg     0.8346    0.8407    0.8345      2981\n",
      "\n"
     ]
    }
   ],
   "source": [
    "c_vectorizer = CountVectorizer(ngram_range=(1, 1))\n",
    "c_vectorizer.fit(X_train[\"comment\"])\n",
    "X_test_c = c_vectorizer.transform(X_test[\"comment\"])\n",
    "\n",
    "y_pred = model_logistic_countvtr_1_1_grid.predict(X_test_c)\n",
    "print(classification_report(y_test, y_pred, digits=4))"
   ]
  },
  {
   "cell_type": "markdown",
   "id": "b11a3b9d",
   "metadata": {},
   "source": [
    "### Model Logistic, CountVectorizer, ngram(1, 2)"
   ]
  },
  {
   "cell_type": "code",
   "execution_count": 22,
   "id": "747520c7",
   "metadata": {},
   "outputs": [
    {
     "name": "stdout",
     "output_type": "stream",
     "text": [
      "              precision    recall  f1-score   support\n",
      "\n",
      "           0     0.8757    0.9346    0.9042      2187\n",
      "           1     0.7790    0.6348    0.6995       794\n",
      "\n",
      "    accuracy                         0.8547      2981\n",
      "   macro avg     0.8274    0.7847    0.8019      2981\n",
      "weighted avg     0.8500    0.8547    0.8497      2981\n",
      "\n"
     ]
    }
   ],
   "source": [
    "c_vectorizer = CountVectorizer(ngram_range=(1, 2))\n",
    "c_vectorizer.fit(X_train[\"comment\"])\n",
    "X_test_c = c_vectorizer.transform(X_test[\"comment\"])\n",
    "\n",
    "y_pred = model_logistic_countvtr_1_2.predict(X_test_c)\n",
    "print(classification_report(y_test, y_pred, digits=4))"
   ]
  },
  {
   "cell_type": "markdown",
   "id": "4b837c30",
   "metadata": {},
   "source": [
    "### Model Logistic, CountVectorizer, ngram(1, 2), GridSearchCV"
   ]
  },
  {
   "cell_type": "code",
   "execution_count": 23,
   "id": "408ed16d",
   "metadata": {},
   "outputs": [
    {
     "name": "stdout",
     "output_type": "stream",
     "text": [
      "              precision    recall  f1-score   support\n",
      "\n",
      "           0     0.8758    0.9351    0.9045      2187\n",
      "           1     0.7802    0.6348    0.7000       794\n",
      "\n",
      "    accuracy                         0.8551      2981\n",
      "   macro avg     0.8280    0.7849    0.8022      2981\n",
      "weighted avg     0.8503    0.8551    0.8500      2981\n",
      "\n"
     ]
    }
   ],
   "source": [
    "c_vectorizer = CountVectorizer(ngram_range=(1, 2))\n",
    "c_vectorizer.fit(X_train[\"comment\"])\n",
    "X_test_c = c_vectorizer.transform(X_test[\"comment\"])\n",
    "\n",
    "y_pred = model_logistic_countvtr_1_2_grid.predict(X_test_c)\n",
    "print(classification_report(y_test, y_pred, digits=4))"
   ]
  },
  {
   "cell_type": "markdown",
   "id": "7b276a43",
   "metadata": {},
   "source": [
    "### Model Logistic, Tf-idfVectorizer, ngram(1, 1)"
   ]
  },
  {
   "cell_type": "code",
   "execution_count": 24,
   "id": "05f8be2a",
   "metadata": {},
   "outputs": [
    {
     "name": "stdout",
     "output_type": "stream",
     "text": [
      "              precision    recall  f1-score   support\n",
      "\n",
      "           0     0.8489    0.9634    0.9025      2187\n",
      "           1     0.8397    0.5277    0.6481       794\n",
      "\n",
      "    accuracy                         0.8474      2981\n",
      "   macro avg     0.8443    0.7456    0.7753      2981\n",
      "weighted avg     0.8465    0.8474    0.8348      2981\n",
      "\n"
     ]
    }
   ],
   "source": [
    "tf_vectorizer = TfidfVectorizer(ngram_range=(1, 1))\n",
    "tf_vectorizer.fit(X_train[\"comment\"])\n",
    "X_test_tf = tf_vectorizer.transform(X_test[\"comment\"])\n",
    "\n",
    "y_pred = model_logistic_tfidf_1_1.predict(X_test_tf)\n",
    "print(classification_report(y_test, y_pred, digits=4))"
   ]
  },
  {
   "cell_type": "markdown",
   "id": "143bf828",
   "metadata": {},
   "source": [
    "### Model Logistic, Tf-idfVectorizer, ngram(1, 1), GridSearchCV"
   ]
  },
  {
   "cell_type": "code",
   "execution_count": 25,
   "id": "233bf1b9",
   "metadata": {},
   "outputs": [
    {
     "name": "stdout",
     "output_type": "stream",
     "text": [
      "              precision    recall  f1-score   support\n",
      "\n",
      "           0     0.8600    0.9383    0.8974      2187\n",
      "           1     0.7731    0.5793    0.6623       794\n",
      "\n",
      "    accuracy                         0.8427      2981\n",
      "   macro avg     0.8166    0.7588    0.7799      2981\n",
      "weighted avg     0.8369    0.8427    0.8348      2981\n",
      "\n"
     ]
    }
   ],
   "source": [
    "tf_vectorizer = TfidfVectorizer(ngram_range=(1, 1))\n",
    "tf_vectorizer.fit(X_train[\"comment\"])\n",
    "X_test_tf = tf_vectorizer.transform(X_test[\"comment\"])\n",
    "\n",
    "y_pred = model_logistic_tfidf_1_1_grid.predict(X_test_tf)\n",
    "print(classification_report(y_test, y_pred, digits=4))"
   ]
  },
  {
   "cell_type": "markdown",
   "id": "7100b70b",
   "metadata": {},
   "source": [
    "### Model Logistic, Tf-idfVectorizer, ngram(1, 2)"
   ]
  },
  {
   "cell_type": "code",
   "execution_count": 26,
   "id": "50eccac9",
   "metadata": {},
   "outputs": [
    {
     "name": "stdout",
     "output_type": "stream",
     "text": [
      "              precision    recall  f1-score   support\n",
      "\n",
      "           0     0.8229    0.9840    0.8963      2187\n",
      "           1     0.9044    0.4169    0.5707       794\n",
      "\n",
      "    accuracy                         0.8329      2981\n",
      "   macro avg     0.8637    0.7004    0.7335      2981\n",
      "weighted avg     0.8446    0.8329    0.8096      2981\n",
      "\n"
     ]
    }
   ],
   "source": [
    "tf_vectorizer = TfidfVectorizer(ngram_range=(1, 2))\n",
    "tf_vectorizer.fit(X_train[\"comment\"])\n",
    "X_test_tf = tf_vectorizer.transform(X_test[\"comment\"])\n",
    "\n",
    "y_pred = model_logistic_tfidf_1_2.predict(X_test_tf)\n",
    "print(classification_report(y_test, y_pred, digits=4))"
   ]
  },
  {
   "cell_type": "markdown",
   "id": "ed9d474a",
   "metadata": {},
   "source": [
    "### Model Logistic, Tf-idfVectorizer, ngram(1, 2), GridSearchCV"
   ]
  },
  {
   "cell_type": "code",
   "execution_count": 27,
   "id": "68a1f089",
   "metadata": {},
   "outputs": [
    {
     "name": "stdout",
     "output_type": "stream",
     "text": [
      "              precision    recall  f1-score   support\n",
      "\n",
      "           0     0.8459    0.9662    0.9020      2187\n",
      "           1     0.8468    0.5151    0.6406       794\n",
      "\n",
      "    accuracy                         0.8460      2981\n",
      "   macro avg     0.8463    0.7406    0.7713      2981\n",
      "weighted avg     0.8461    0.8460    0.8324      2981\n",
      "\n"
     ]
    }
   ],
   "source": [
    "tf_vectorizer = TfidfVectorizer(ngram_range=(1, 2))\n",
    "tf_vectorizer.fit(X_train[\"comment\"])\n",
    "X_test_tf = tf_vectorizer.transform(X_test[\"comment\"])\n",
    "\n",
    "\n",
    "y_pred = model_logistic_tfidf_1_2_grid.predict(X_test_tf)\n",
    "print(classification_report(y_test, y_pred, digits=4))"
   ]
  },
  {
   "cell_type": "code",
   "execution_count": null,
   "id": "7b267297",
   "metadata": {},
   "outputs": [],
   "source": []
  }
 ],
 "metadata": {
  "kernelspec": {
   "display_name": "Python 3 (ipykernel)",
   "language": "python",
   "name": "python3"
  },
  "language_info": {
   "codemirror_mode": {
    "name": "ipython",
    "version": 3
   },
   "file_extension": ".py",
   "mimetype": "text/x-python",
   "name": "python",
   "nbconvert_exporter": "python",
   "pygments_lexer": "ipython3",
   "version": "3.7.9"
  }
 },
 "nbformat": 4,
 "nbformat_minor": 5
}
