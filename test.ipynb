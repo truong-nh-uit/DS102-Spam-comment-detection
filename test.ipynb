{
 "cells": [
  {
   "cell_type": "code",
   "execution_count": 1,
   "metadata": {},
   "outputs": [],
   "source": [
    "import pandas as pd"
   ]
  },
  {
   "cell_type": "code",
   "execution_count": 2,
   "metadata": {},
   "outputs": [],
   "source": [
    "X_train = pd.read_excel(\"data/X_train.xlsx\")"
   ]
  },
  {
   "cell_type": "code",
   "execution_count": 4,
   "metadata": {},
   "outputs": [
    {
     "data": {
      "text/plain": [
       "0    hàng giao đúng mâũ, chưa thử chưa biết. hàng g...\n",
       "1    vải quần đẹp nha mng ơi, không biết giặt xong ...\n",
       "2    ship rất nhanh, mới đặt xong đã có hàng. chưa ...\n",
       "3    okie, mua về bà nội với cháu ( 14 tháng) giành...\n",
       "4    mua rất nhiều dụng cụ làm bánh để làm bánh ngũ...\n",
       "5    sản phẩm chất lượng vừa giá tiền đặt hàng ngày...\n",
       "6    giày rất đẹp, êm , kiểu như size giày nó bị lỡ...\n",
       "7    bộ sản phẩm giao đúng mâũ, nhìn đẹp. dung lượn...\n",
       "8    chất lượng sản phẩm tạm ổn. nhưng mua 2 size k...\n",
       "9    sản phẩm nguyên seal, xuất xứ trung quốc, đang...\n",
       "Name: comment, dtype: object"
      ]
     },
     "execution_count": 4,
     "metadata": {},
     "output_type": "execute_result"
    }
   ],
   "source": [
    "X_train[\"comment\"].head(10)"
   ]
  },
  {
   "cell_type": "code",
   "execution_count": 10,
   "metadata": {},
   "outputs": [
    {
     "name": "stderr",
     "output_type": "stream",
     "text": [
      "/var/folders/cr/lqbhh02d6n37_61d4jrtxnvw0000gn/T/ipykernel_25216/1917645106.py:2: DeprecationWarning: Please use `csr_matrix` from the `scipy.sparse` namespace, the `scipy.sparse.csr` namespace is deprecated.\n",
      "  SVMclf = pickle.load(open('Model/Best_model_SVM_(1,1)_Count_grid(cv=10).pkl', 'rb'))\n",
      "/var/folders/cr/lqbhh02d6n37_61d4jrtxnvw0000gn/T/ipykernel_25216/1917645106.py:3: DeprecationWarning: Please use `csr_matrix` from the `scipy.sparse` namespace, the `scipy.sparse.csr` namespace is deprecated.\n",
      "  KNNclf = pickle.load(open('Model/knn_model.pkl', 'rb'))\n"
     ]
    }
   ],
   "source": [
    "import pickle\n",
    "SVMclf = pickle.load(open('Model/Best_model_SVM_(1,1)_Count_grid(cv=10).pkl', 'rb'))\n",
    "KNNclf = pickle.load(open('Model/knn_model.pkl', 'rb'))\n",
    "LRclf  = pickle.load(open('Model/model_logistic.pkl', 'rb'))"
   ]
  },
  {
   "cell_type": "code",
   "execution_count": 6,
   "metadata": {},
   "outputs": [
    {
     "data": {
      "text/plain": [
       "<13909x12693 sparse matrix of type '<class 'numpy.int64'>'\n",
       "\twith 307068 stored elements in Compressed Sparse Row format>"
      ]
     },
     "execution_count": 6,
     "metadata": {},
     "output_type": "execute_result"
    }
   ],
   "source": [
    "from sklearn.feature_extraction.text import CountVectorizer\n",
    "\n",
    "c_vectorizer = CountVectorizer(ngram_range=(1, 1))\n",
    "X_train = pd.read_excel('data/X_train.xlsx')\n",
    "c_vectorizer.fit_transform(X_train[\"comment\"])"
   ]
  },
  {
   "cell_type": "code",
   "execution_count": 20,
   "metadata": {},
   "outputs": [],
   "source": [
    "def encoder_list(raw_list):\n",
    "    pre_list = c_vectorizer.transform(raw_list)\n",
    "    return pre_list"
   ]
  },
  {
   "cell_type": "code",
   "execution_count": 24,
   "metadata": {},
   "outputs": [
    {
     "data": {
      "text/html": [
       "<div>\n",
       "<style scoped>\n",
       "    .dataframe tbody tr th:only-of-type {\n",
       "        vertical-align: middle;\n",
       "    }\n",
       "\n",
       "    .dataframe tbody tr th {\n",
       "        vertical-align: top;\n",
       "    }\n",
       "\n",
       "    .dataframe thead th {\n",
       "        text-align: right;\n",
       "    }\n",
       "</style>\n",
       "<table border=\"1\" class=\"dataframe\">\n",
       "  <thead>\n",
       "    <tr style=\"text-align: right;\">\n",
       "      <th></th>\n",
       "      <th>comment</th>\n",
       "    </tr>\n",
       "  </thead>\n",
       "  <tbody>\n",
       "    <tr>\n",
       "      <th>0</th>\n",
       "      <td>Đóng gói cẩn thận, đẹp. Giao hàng nhanh, tai p...</td>\n",
       "    </tr>\n",
       "    <tr>\n",
       "      <th>1</th>\n",
       "      <td>Tai nghe rất dễ thương, đúng mẫu tuy nhiên ngh...</td>\n",
       "    </tr>\n",
       "    <tr>\n",
       "      <th>2</th>\n",
       "      <td>So với giá tiền thì ok nha. Tai nghe đẹp. Nghe...</td>\n",
       "    </tr>\n",
       "    <tr>\n",
       "      <th>3</th>\n",
       "      <td>Giao hàng siêu nhanh, lúc đầu tưởng 1 bên tai ...</td>\n",
       "    </tr>\n",
       "    <tr>\n",
       "      <th>4</th>\n",
       "      <td>da duoc huy theo yeu cau cua Quy khach. De bie...</td>\n",
       "    </tr>\n",
       "    <tr>\n",
       "      <th>...</th>\n",
       "      <td>...</td>\n",
       "    </tr>\n",
       "    <tr>\n",
       "      <th>61</th>\n",
       "      <td>OK OK</td>\n",
       "    </tr>\n",
       "    <tr>\n",
       "      <th>62</th>\n",
       "      <td>Đúng màu như trong hình . Đẹp chuẩn , cảm ơn s...</td>\n",
       "    </tr>\n",
       "    <tr>\n",
       "      <th>63</th>\n",
       "      <td>Đẹp như trong hình rất OK . Cảm ơn shops yêu</td>\n",
       "    </tr>\n",
       "    <tr>\n",
       "      <th>64</th>\n",
       "      <td>Sản phẩm tốt quá shop ạ</td>\n",
       "    </tr>\n",
       "    <tr>\n",
       "      <th>65</th>\n",
       "      <td>Ok ok, sản phẩm tốt đóng gói giao hàng cực nhanh</td>\n",
       "    </tr>\n",
       "  </tbody>\n",
       "</table>\n",
       "<p>66 rows × 1 columns</p>\n",
       "</div>"
      ],
      "text/plain": [
       "                                              comment\n",
       "0   Đóng gói cẩn thận, đẹp. Giao hàng nhanh, tai p...\n",
       "1   Tai nghe rất dễ thương, đúng mẫu tuy nhiên ngh...\n",
       "2   So với giá tiền thì ok nha. Tai nghe đẹp. Nghe...\n",
       "3   Giao hàng siêu nhanh, lúc đầu tưởng 1 bên tai ...\n",
       "4   da duoc huy theo yeu cau cua Quy khach. De bie...\n",
       "..                                                ...\n",
       "61                                              OK OK\n",
       "62  Đúng màu như trong hình . Đẹp chuẩn , cảm ơn s...\n",
       "63       Đẹp như trong hình rất OK . Cảm ơn shops yêu\n",
       "64                            Sản phẩm tốt quá shop ạ\n",
       "65   Ok ok, sản phẩm tốt đóng gói giao hàng cực nhanh\n",
       "\n",
       "[66 rows x 1 columns]"
      ]
     },
     "execution_count": 24,
     "metadata": {},
     "output_type": "execute_result"
    }
   ],
   "source": [
    "data = pd.read_csv('data/dataset.csv')\n",
    "data\n"
   ]
  },
  {
   "cell_type": "code",
   "execution_count": 25,
   "metadata": {},
   "outputs": [
    {
     "data": {
      "text/plain": [
       "<66x12693 sparse matrix of type '<class 'numpy.int64'>'\n",
       "\twith 1085 stored elements in Compressed Sparse Row format>"
      ]
     },
     "execution_count": 25,
     "metadata": {},
     "output_type": "execute_result"
    }
   ],
   "source": [
    "encoder_list(data['comment'])"
   ]
  },
  {
   "cell_type": "code",
   "execution_count": 6,
   "metadata": {},
   "outputs": [
    {
     "data": {
      "text/html": [
       "<div>\n",
       "<style scoped>\n",
       "    .dataframe tbody tr th:only-of-type {\n",
       "        vertical-align: middle;\n",
       "    }\n",
       "\n",
       "    .dataframe tbody tr th {\n",
       "        vertical-align: top;\n",
       "    }\n",
       "\n",
       "    .dataframe thead th {\n",
       "        text-align: right;\n",
       "    }\n",
       "</style>\n",
       "<table border=\"1\" class=\"dataframe\">\n",
       "  <thead>\n",
       "    <tr style=\"text-align: right;\">\n",
       "      <th></th>\n",
       "      <th>comment</th>\n",
       "    </tr>\n",
       "  </thead>\n",
       "  <tbody>\n",
       "    <tr>\n",
       "      <th>0</th>\n",
       "      <td>Chất lượng sản phẩm:TỐt\\nTính năng nổi bật:nhạ...</td>\n",
       "    </tr>\n",
       "    <tr>\n",
       "      <th>1</th>\n",
       "      <td>sản phẩm tốt………………………………………………………………………………………,...</td>\n",
       "    </tr>\n",
       "    <tr>\n",
       "      <th>2</th>\n",
       "      <td>Hàng đẹp, dùng ổn. Không được tặng bao da gì h...</td>\n",
       "    </tr>\n",
       "    <tr>\n",
       "      <th>3</th>\n",
       "      <td>Thấy nhiều người mua đánh giá tốt nên mua dùng...</td>\n",
       "    </tr>\n",
       "    <tr>\n",
       "      <th>4</th>\n",
       "      <td>Camera lồi khá nhiều, dễ trầy nếu bị va đụng, ...</td>\n",
       "    </tr>\n",
       "    <tr>\n",
       "      <th>...</th>\n",
       "      <td>...</td>\n",
       "    </tr>\n",
       "    <tr>\n",
       "      <th>590</th>\n",
       "      <td>Good 👍</td>\n",
       "    </tr>\n",
       "    <tr>\n",
       "      <th>591</th>\n",
       "      <td>Bình luận mà chẳng được xu gì cả</td>\n",
       "    </tr>\n",
       "    <tr>\n",
       "      <th>592</th>\n",
       "      <td>Shop giao nhanh lắm</td>\n",
       "    </tr>\n",
       "    <tr>\n",
       "      <th>593</th>\n",
       "      <td>tốt lắm shop phục vụ nhiệt tình 🤣🤣🤣🤣🤣🤣🤣🤣🤣🤣🤣😀😀😀...</td>\n",
       "    </tr>\n",
       "    <tr>\n",
       "      <th>594</th>\n",
       "      <td>Jrjrjrjrjrjrjjrnrb4bdiciiejendndndndnndjei2ken...</td>\n",
       "    </tr>\n",
       "  </tbody>\n",
       "</table>\n",
       "<p>595 rows × 1 columns</p>\n",
       "</div>"
      ],
      "text/plain": [
       "                                               comment\n",
       "0    Chất lượng sản phẩm:TỐt\\nTính năng nổi bật:nhạ...\n",
       "1    sản phẩm tốt………………………………………………………………………………………,...\n",
       "2    Hàng đẹp, dùng ổn. Không được tặng bao da gì h...\n",
       "3    Thấy nhiều người mua đánh giá tốt nên mua dùng...\n",
       "4    Camera lồi khá nhiều, dễ trầy nếu bị va đụng, ...\n",
       "..                                                 ...\n",
       "590                                             Good 👍\n",
       "591                   Bình luận mà chẳng được xu gì cả\n",
       "592                                Shop giao nhanh lắm\n",
       "593  tốt lắm shop phục vụ nhiệt tình 🤣🤣🤣🤣🤣🤣🤣🤣🤣🤣🤣😀😀😀...\n",
       "594  Jrjrjrjrjrjrjjrnrb4bdiciiejendndndndnndjei2ken...\n",
       "\n",
       "[595 rows x 1 columns]"
      ]
     },
     "execution_count": 6,
     "metadata": {},
     "output_type": "execute_result"
    }
   ],
   "source": [
    "dataset = pd.read_csv(\"/Users/nguyen/Downloads/comment2.csv\")\n",
    "dataset"
   ]
  },
  {
   "cell_type": "code",
   "execution_count": 4,
   "metadata": {},
   "outputs": [
    {
     "data": {
      "text/html": [
       "<div>\n",
       "<style scoped>\n",
       "    .dataframe tbody tr th:only-of-type {\n",
       "        vertical-align: middle;\n",
       "    }\n",
       "\n",
       "    .dataframe tbody tr th {\n",
       "        vertical-align: top;\n",
       "    }\n",
       "\n",
       "    .dataframe thead th {\n",
       "        text-align: right;\n",
       "    }\n",
       "</style>\n",
       "<table border=\"1\" class=\"dataframe\">\n",
       "  <thead>\n",
       "    <tr style=\"text-align: right;\">\n",
       "      <th></th>\n",
       "      <th>comment</th>\n",
       "    </tr>\n",
       "  </thead>\n",
       "  <tbody>\n",
       "    <tr>\n",
       "      <th>0</th>\n",
       "      <td>Sách đẹp lắm nha, đầy đủ kiến thức trọng tâm đ...</td>\n",
       "    </tr>\n",
       "    <tr>\n",
       "      <th>1</th>\n",
       "      <td>Sách hay sạch đẹp, đầy đủ kiến thức trọng tâm ...</td>\n",
       "    </tr>\n",
       "    <tr>\n",
       "      <th>2</th>\n",
       "      <td>Thiết kế bìa:Đẹp\\nĐối tượng độc giả:Tốt\\n\\nSác...</td>\n",
       "    </tr>\n",
       "    <tr>\n",
       "      <th>3</th>\n",
       "      <td>Sách hay quá trời luôn!!! 😍😍💎💎💎💎💎</td>\n",
       "    </tr>\n",
       "    <tr>\n",
       "      <th>4</th>\n",
       "      <td>Thiết kế bìa:bìa dày, màu sắc đẹp\\n\\nMình thấy...</td>\n",
       "    </tr>\n",
       "    <tr>\n",
       "      <th>...</th>\n",
       "      <td>...</td>\n",
       "    </tr>\n",
       "    <tr>\n",
       "      <th>1312</th>\n",
       "      <td>@@@@@@@@@@@@@@@@@@@@@@@@@@@@@@@@@@@@@@@@@@@@@@...</td>\n",
       "    </tr>\n",
       "    <tr>\n",
       "      <th>1319</th>\n",
       "      <td>Vzhjzhshshsjksjdjxjxjdbdjsisojsjshsjsjsjsjsisi...</td>\n",
       "    </tr>\n",
       "    <tr>\n",
       "      <th>1320</th>\n",
       "      <td>Sản phẩm đóng gói kĩ sách ổn</td>\n",
       "    </tr>\n",
       "    <tr>\n",
       "      <th>1322</th>\n",
       "      <td>wjdjdjddjjdddddddddđffffffdffdfffffffffftffftt...</td>\n",
       "    </tr>\n",
       "    <tr>\n",
       "      <th>1324</th>\n",
       "      <td>.................................................</td>\n",
       "    </tr>\n",
       "  </tbody>\n",
       "</table>\n",
       "<p>751 rows × 1 columns</p>\n",
       "</div>"
      ],
      "text/plain": [
       "                                                comment\n",
       "0     Sách đẹp lắm nha, đầy đủ kiến thức trọng tâm đ...\n",
       "1     Sách hay sạch đẹp, đầy đủ kiến thức trọng tâm ...\n",
       "2     Thiết kế bìa:Đẹp\\nĐối tượng độc giả:Tốt\\n\\nSác...\n",
       "3                     Sách hay quá trời luôn!!! 😍😍💎💎💎💎💎\n",
       "4     Thiết kế bìa:bìa dày, màu sắc đẹp\\n\\nMình thấy...\n",
       "...                                                 ...\n",
       "1312  @@@@@@@@@@@@@@@@@@@@@@@@@@@@@@@@@@@@@@@@@@@@@@...\n",
       "1319  Vzhjzhshshsjksjdjxjxjdbdjsisojsjshsjsjsjsjsisi...\n",
       "1320                       Sản phẩm đóng gói kĩ sách ổn\n",
       "1322  wjdjdjddjjdddddddddđffffffdffdfffffffffftffftt...\n",
       "1324  .................................................\n",
       "\n",
       "[751 rows x 1 columns]"
      ]
     },
     "execution_count": 4,
     "metadata": {},
     "output_type": "execute_result"
    }
   ],
   "source": [
    "dataset.dropna(subset = [\"comment\"], inplace=True)\n",
    "dataset\n"
   ]
  },
  {
   "cell_type": "code",
   "execution_count": null,
   "metadata": {},
   "outputs": [],
   "source": []
  }
 ],
 "metadata": {
  "interpreter": {
   "hash": "29f2ce52a9c00e189395e20aafa178ab7af74648fe2eafced8ee9fc936088550"
  },
  "kernelspec": {
   "display_name": "Python 3.8.2 ('tutorial')",
   "language": "python",
   "name": "python3"
  },
  "language_info": {
   "codemirror_mode": {
    "name": "ipython",
    "version": 3
   },
   "file_extension": ".py",
   "mimetype": "text/x-python",
   "name": "python",
   "nbconvert_exporter": "python",
   "pygments_lexer": "ipython3",
   "version": "3.8.2"
  },
  "orig_nbformat": 4
 },
 "nbformat": 4,
 "nbformat_minor": 2
}
